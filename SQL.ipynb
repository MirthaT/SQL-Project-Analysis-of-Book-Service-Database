{
 "cells": [
  {
   "cell_type": "markdown",
   "id": "1ed8f84e",
   "metadata": {
    "toc": true
   },
   "source": [
    "<h1>Table of Contents<span class=\"tocSkip\"></span></h1>\n",
    "<div class=\"toc\"><ul class=\"toc-item\"><li><span><a href=\"#📌-Project-Description\" data-toc-modified-id=\"📌-Project-Description-1\"><span class=\"toc-item-num\">1&nbsp;&nbsp;</span>📌 Project Description</a></span></li><li><span><a href=\"#🎯-Objectives\" data-toc-modified-id=\"🎯-Objectives-2\"><span class=\"toc-item-num\">2&nbsp;&nbsp;</span>🎯 Objectives</a></span></li><li><span><a href=\"#⚙️-Initialization\" data-toc-modified-id=\"⚙️-Initialization-3\"><span class=\"toc-item-num\">3&nbsp;&nbsp;</span>⚙️ Initialization</a></span></li><li><span><a href=\"#🔗-Connecting-to-the-Database\" data-toc-modified-id=\"🔗-Connecting-to-the-Database-4\"><span class=\"toc-item-num\">4&nbsp;&nbsp;</span>🔗 Connecting to the Database</a></span></li><li><span><a href=\"#📊-Exploring-the-Tables\" data-toc-modified-id=\"📊-Exploring-the-Tables-5\"><span class=\"toc-item-num\">5&nbsp;&nbsp;</span>📊 Exploring the Tables</a></span></li><li><span><a href=\"#🧪-Exercises\" data-toc-modified-id=\"🧪-Exercises-6\"><span class=\"toc-item-num\">6&nbsp;&nbsp;</span>🧪 Exercises</a></span><ul class=\"toc-item\"><li><span><a href=\"#📘Number-of-books-published-after-January-1,-2000\" data-toc-modified-id=\"📘Number-of-books-published-after-January-1,-2000-6.1\"><span class=\"toc-item-num\">6.1&nbsp;&nbsp;</span>📘Number of books published after January 1, 2000</a></span></li><li><span><a href=\"#📗-Number-of-User-Reviews-and-Average-Rating-per-Book\" data-toc-modified-id=\"📗-Number-of-User-Reviews-and-Average-Rating-per-Book-6.2\"><span class=\"toc-item-num\">6.2&nbsp;&nbsp;</span>📗 Number of User Reviews and Average Rating per Book</a></span></li><li><span><a href=\"#📘-Publisher-with-the-Most-Books-Over-50-Pages\" data-toc-modified-id=\"📘-Publisher-with-the-Most-Books-Over-50-Pages-6.3\"><span class=\"toc-item-num\">6.3&nbsp;&nbsp;</span>📘 Publisher with the Most Books Over 50 Pages</a></span></li><li><span><a href=\"#🖋️-Author-with-the-Highest-Average-Book-Rating-(Min.-50-Ratings-per-Book)\" data-toc-modified-id=\"🖋️-Author-with-the-Highest-Average-Book-Rating-(Min.-50-Ratings-per-Book)-6.4\"><span class=\"toc-item-num\">6.4&nbsp;&nbsp;</span>🖋️ Author with the Highest Average Book Rating (Min. 50 Ratings per Book)</a></span></li><li><span><a href=\"#💬-Average-Number-of-Text-Reviews-Among-Users-Who-Rated-More-Than-50-Books\" data-toc-modified-id=\"💬-Average-Number-of-Text-Reviews-Among-Users-Who-Rated-More-Than-50-Books-6.5\"><span class=\"toc-item-num\">6.5&nbsp;&nbsp;</span>💬 Average Number of Text Reviews Among Users Who Rated More Than 50 Books</a></span></li></ul></li></ul></div>"
   ]
  },
  {
   "cell_type": "markdown",
   "id": "706cd6f3",
   "metadata": {},
   "source": [
    "## 📌 Project Description\n",
    "\n",
    "The COVID-19 pandemic took the world by surprise, dramatically changing people’s daily routines. City dwellers stopped spending their free time at cafés and shopping centers and instead turned to activities at home — such as reading. This surge in reading habits sparked the interest of startups that quickly launched new platforms tailored for book lovers.\n",
    "\n",
    "In this project, we are given access to a database from one of these emerging services. The dataset includes information about books, publishers, authors, user ratings, and written reviews. Our goal is to analyze this data to generate insights that will help define a value proposition for a new product in the book-tech market.\n"
   ]
  },
  {
   "cell_type": "markdown",
   "id": "56d16c35",
   "metadata": {},
   "source": [
    "## 🎯 Objectives\n",
    "\n",
    "The following analytical questions will be addressed using SQL:\n",
    "\n",
    "1. Identify the number of books published after January 1, 2000.\n",
    "2. Determine the number of user reviews and the average rating for each book.\n",
    "3. Find the publisher that has released the highest number of books with more than 50 pages.\n",
    "4. Identify the author with the highest average rating, considering only books with at least 50 ratings.\n",
    "5. Calculate the average number of text reviews written by users who have rated more than 50 books."
   ]
  },
  {
   "cell_type": "markdown",
   "id": "ff603a72",
   "metadata": {},
   "source": [
    "## ⚙️ Initialization\n",
    "\n",
    "In this section, we load the necessary libraries to connect to the PostgreSQL database and handle the data within the notebook."
   ]
  },
  {
   "cell_type": "code",
   "execution_count": 4,
   "id": "900d8da4",
   "metadata": {},
   "outputs": [],
   "source": [
    "# Uncomment the following lines if you haven't installed these packages yet:\n",
    "# !python -m pip install --upgrade 'sqlalchemy<2.0'\n",
    "# !pip install psycopg2"
   ]
  },
  {
   "cell_type": "code",
   "execution_count": 5,
   "id": "3ff09293",
   "metadata": {},
   "outputs": [],
   "source": [
    "import pandas as pd\n",
    "from sqlalchemy import create_engine\n",
    "import psycopg2"
   ]
  },
  {
   "cell_type": "markdown",
   "id": "92eee87c",
   "metadata": {},
   "source": [
    "## 🔗 Connecting to the Database\n",
    "\n",
    "In this step, we will connect to the PostgreSQL database in order to access the dataset. The goal is to explore the database structure, identify relevant variables, and assess the quality of the data."
   ]
  },
  {
   "cell_type": "code",
   "execution_count": 7,
   "id": "60e3a61a",
   "metadata": {},
   "outputs": [],
   "source": [
    "# Replace the following with your actual credentials\n",
    "db_config = {'user': 'practicum_student', # nombre de usuario\n",
    "'pwd': 's65BlTKV3faNIGhmvJVzOqhs', # contraseña\n",
    "'host': 'rc1b-wcoijxj3yxfsf3fs.mdb.yandexcloud.net',\n",
    "'port': 6432, # puerto de conexión\n",
    "'db': 'data-analyst-final-project-db'} # nombre de la base de datos\n",
    "\n",
    "# Create connection string\n",
    "connection_string = 'postgresql://{}:{}@{}:{}/{}'.format(db_config['user'],\n",
    "\n",
    "db_config['pwd'],\n",
    "db_config['host'],\n",
    "db_config['port'],\n",
    "db_config['db'])\n",
    "\n",
    "# Test connection by displaying available tables (optional)\n",
    "engine = create_engine(connection_string, connect_args={'sslmode':'require'})# Deprecated in SQLAlchemy 2.0+, use inspect(engine).get_table_names() instead if needed\n"
   ]
  },
  {
   "cell_type": "markdown",
   "id": "7b47c2f6",
   "metadata": {},
   "source": [
    "## 📊 Exploring the Tables\n",
    "\n",
    "Now that the database connection is established, let's take a first look at the data.\n",
    "\n",
    "We will display the first few rows of each table to understand the structure, column names, and data formats. This will help us plan the queries more effectively and identify any data quality issues early on.\n"
   ]
  },
  {
   "cell_type": "code",
   "execution_count": 8,
   "id": "168d342c",
   "metadata": {},
   "outputs": [
    {
     "data": {
      "text/html": [
       "<div>\n",
       "<style scoped>\n",
       "    .dataframe tbody tr th:only-of-type {\n",
       "        vertical-align: middle;\n",
       "    }\n",
       "\n",
       "    .dataframe tbody tr th {\n",
       "        vertical-align: top;\n",
       "    }\n",
       "\n",
       "    .dataframe thead th {\n",
       "        text-align: right;\n",
       "    }\n",
       "</style>\n",
       "<table border=\"1\" class=\"dataframe\">\n",
       "  <thead>\n",
       "    <tr style=\"text-align: right;\">\n",
       "      <th></th>\n",
       "      <th>book_id</th>\n",
       "      <th>author_id</th>\n",
       "      <th>title</th>\n",
       "      <th>num_pages</th>\n",
       "      <th>publication_date</th>\n",
       "      <th>publisher_id</th>\n",
       "    </tr>\n",
       "  </thead>\n",
       "  <tbody>\n",
       "    <tr>\n",
       "      <th>0</th>\n",
       "      <td>1</td>\n",
       "      <td>546</td>\n",
       "      <td>'Salem's Lot</td>\n",
       "      <td>594</td>\n",
       "      <td>2005-11-01</td>\n",
       "      <td>93</td>\n",
       "    </tr>\n",
       "    <tr>\n",
       "      <th>1</th>\n",
       "      <td>2</td>\n",
       "      <td>465</td>\n",
       "      <td>1 000 Places to See Before You Die</td>\n",
       "      <td>992</td>\n",
       "      <td>2003-05-22</td>\n",
       "      <td>336</td>\n",
       "    </tr>\n",
       "    <tr>\n",
       "      <th>2</th>\n",
       "      <td>3</td>\n",
       "      <td>407</td>\n",
       "      <td>13 Little Blue Envelopes (Little Blue Envelope...</td>\n",
       "      <td>322</td>\n",
       "      <td>2010-12-21</td>\n",
       "      <td>135</td>\n",
       "    </tr>\n",
       "    <tr>\n",
       "      <th>3</th>\n",
       "      <td>4</td>\n",
       "      <td>82</td>\n",
       "      <td>1491: New Revelations of the Americas Before C...</td>\n",
       "      <td>541</td>\n",
       "      <td>2006-10-10</td>\n",
       "      <td>309</td>\n",
       "    </tr>\n",
       "    <tr>\n",
       "      <th>4</th>\n",
       "      <td>5</td>\n",
       "      <td>125</td>\n",
       "      <td>1776</td>\n",
       "      <td>386</td>\n",
       "      <td>2006-07-04</td>\n",
       "      <td>268</td>\n",
       "    </tr>\n",
       "  </tbody>\n",
       "</table>\n",
       "</div>"
      ],
      "text/plain": [
       "   book_id  author_id                                              title  \\\n",
       "0        1        546                                       'Salem's Lot   \n",
       "1        2        465                 1 000 Places to See Before You Die   \n",
       "2        3        407  13 Little Blue Envelopes (Little Blue Envelope...   \n",
       "3        4         82  1491: New Revelations of the Americas Before C...   \n",
       "4        5        125                                               1776   \n",
       "\n",
       "   num_pages publication_date  publisher_id  \n",
       "0        594       2005-11-01            93  \n",
       "1        992       2003-05-22           336  \n",
       "2        322       2010-12-21           135  \n",
       "3        541       2006-10-10           309  \n",
       "4        386       2006-07-04           268  "
      ]
     },
     "execution_count": 8,
     "metadata": {},
     "output_type": "execute_result"
    }
   ],
   "source": [
    "#View first rows from books\n",
    "query= \"SELECT * FROM books LIMIT 5\"\n",
    "pd.read_sql(query, engine)"
   ]
  },
  {
   "cell_type": "code",
   "execution_count": 9,
   "id": "432cd1fb",
   "metadata": {},
   "outputs": [
    {
     "data": {
      "text/html": [
       "<div>\n",
       "<style scoped>\n",
       "    .dataframe tbody tr th:only-of-type {\n",
       "        vertical-align: middle;\n",
       "    }\n",
       "\n",
       "    .dataframe tbody tr th {\n",
       "        vertical-align: top;\n",
       "    }\n",
       "\n",
       "    .dataframe thead th {\n",
       "        text-align: right;\n",
       "    }\n",
       "</style>\n",
       "<table border=\"1\" class=\"dataframe\">\n",
       "  <thead>\n",
       "    <tr style=\"text-align: right;\">\n",
       "      <th></th>\n",
       "      <th>author_id</th>\n",
       "      <th>author</th>\n",
       "    </tr>\n",
       "  </thead>\n",
       "  <tbody>\n",
       "    <tr>\n",
       "      <th>0</th>\n",
       "      <td>1</td>\n",
       "      <td>A.S. Byatt</td>\n",
       "    </tr>\n",
       "    <tr>\n",
       "      <th>1</th>\n",
       "      <td>2</td>\n",
       "      <td>Aesop/Laura Harris/Laura Gibbs</td>\n",
       "    </tr>\n",
       "    <tr>\n",
       "      <th>2</th>\n",
       "      <td>3</td>\n",
       "      <td>Agatha Christie</td>\n",
       "    </tr>\n",
       "    <tr>\n",
       "      <th>3</th>\n",
       "      <td>4</td>\n",
       "      <td>Alan Brennert</td>\n",
       "    </tr>\n",
       "    <tr>\n",
       "      <th>4</th>\n",
       "      <td>5</td>\n",
       "      <td>Alan Moore/David   Lloyd</td>\n",
       "    </tr>\n",
       "  </tbody>\n",
       "</table>\n",
       "</div>"
      ],
      "text/plain": [
       "   author_id                          author\n",
       "0          1                      A.S. Byatt\n",
       "1          2  Aesop/Laura Harris/Laura Gibbs\n",
       "2          3                 Agatha Christie\n",
       "3          4                   Alan Brennert\n",
       "4          5        Alan Moore/David   Lloyd"
      ]
     },
     "execution_count": 9,
     "metadata": {},
     "output_type": "execute_result"
    }
   ],
   "source": [
    "#View first rows from authors\n",
    "query= \"SELECT * FROM authors LIMIT 5\"\n",
    "pd.read_sql(query, engine)\n"
   ]
  },
  {
   "cell_type": "code",
   "execution_count": 10,
   "id": "037f55d6",
   "metadata": {},
   "outputs": [
    {
     "data": {
      "text/html": [
       "<div>\n",
       "<style scoped>\n",
       "    .dataframe tbody tr th:only-of-type {\n",
       "        vertical-align: middle;\n",
       "    }\n",
       "\n",
       "    .dataframe tbody tr th {\n",
       "        vertical-align: top;\n",
       "    }\n",
       "\n",
       "    .dataframe thead th {\n",
       "        text-align: right;\n",
       "    }\n",
       "</style>\n",
       "<table border=\"1\" class=\"dataframe\">\n",
       "  <thead>\n",
       "    <tr style=\"text-align: right;\">\n",
       "      <th></th>\n",
       "      <th>publisher_id</th>\n",
       "      <th>publisher</th>\n",
       "    </tr>\n",
       "  </thead>\n",
       "  <tbody>\n",
       "    <tr>\n",
       "      <th>0</th>\n",
       "      <td>1</td>\n",
       "      <td>Ace</td>\n",
       "    </tr>\n",
       "    <tr>\n",
       "      <th>1</th>\n",
       "      <td>2</td>\n",
       "      <td>Ace Book</td>\n",
       "    </tr>\n",
       "    <tr>\n",
       "      <th>2</th>\n",
       "      <td>3</td>\n",
       "      <td>Ace Books</td>\n",
       "    </tr>\n",
       "    <tr>\n",
       "      <th>3</th>\n",
       "      <td>4</td>\n",
       "      <td>Ace Hardcover</td>\n",
       "    </tr>\n",
       "    <tr>\n",
       "      <th>4</th>\n",
       "      <td>5</td>\n",
       "      <td>Addison Wesley Publishing Company</td>\n",
       "    </tr>\n",
       "  </tbody>\n",
       "</table>\n",
       "</div>"
      ],
      "text/plain": [
       "   publisher_id                          publisher\n",
       "0             1                                Ace\n",
       "1             2                           Ace Book\n",
       "2             3                          Ace Books\n",
       "3             4                      Ace Hardcover\n",
       "4             5  Addison Wesley Publishing Company"
      ]
     },
     "execution_count": 10,
     "metadata": {},
     "output_type": "execute_result"
    }
   ],
   "source": [
    "#View first rows from publishers\n",
    "query= \"SELECT * FROM publishers LIMIT 5\"\n",
    "pd.read_sql(query, engine)\n"
   ]
  },
  {
   "cell_type": "code",
   "execution_count": 11,
   "id": "51c63800",
   "metadata": {},
   "outputs": [
    {
     "data": {
      "text/html": [
       "<div>\n",
       "<style scoped>\n",
       "    .dataframe tbody tr th:only-of-type {\n",
       "        vertical-align: middle;\n",
       "    }\n",
       "\n",
       "    .dataframe tbody tr th {\n",
       "        vertical-align: top;\n",
       "    }\n",
       "\n",
       "    .dataframe thead th {\n",
       "        text-align: right;\n",
       "    }\n",
       "</style>\n",
       "<table border=\"1\" class=\"dataframe\">\n",
       "  <thead>\n",
       "    <tr style=\"text-align: right;\">\n",
       "      <th></th>\n",
       "      <th>rating_id</th>\n",
       "      <th>book_id</th>\n",
       "      <th>username</th>\n",
       "      <th>rating</th>\n",
       "    </tr>\n",
       "  </thead>\n",
       "  <tbody>\n",
       "    <tr>\n",
       "      <th>0</th>\n",
       "      <td>1</td>\n",
       "      <td>1</td>\n",
       "      <td>ryanfranco</td>\n",
       "      <td>4</td>\n",
       "    </tr>\n",
       "    <tr>\n",
       "      <th>1</th>\n",
       "      <td>2</td>\n",
       "      <td>1</td>\n",
       "      <td>grantpatricia</td>\n",
       "      <td>2</td>\n",
       "    </tr>\n",
       "    <tr>\n",
       "      <th>2</th>\n",
       "      <td>3</td>\n",
       "      <td>1</td>\n",
       "      <td>brandtandrea</td>\n",
       "      <td>5</td>\n",
       "    </tr>\n",
       "    <tr>\n",
       "      <th>3</th>\n",
       "      <td>4</td>\n",
       "      <td>2</td>\n",
       "      <td>lorichen</td>\n",
       "      <td>3</td>\n",
       "    </tr>\n",
       "    <tr>\n",
       "      <th>4</th>\n",
       "      <td>5</td>\n",
       "      <td>2</td>\n",
       "      <td>mariokeller</td>\n",
       "      <td>2</td>\n",
       "    </tr>\n",
       "  </tbody>\n",
       "</table>\n",
       "</div>"
      ],
      "text/plain": [
       "   rating_id  book_id       username  rating\n",
       "0          1        1     ryanfranco       4\n",
       "1          2        1  grantpatricia       2\n",
       "2          3        1   brandtandrea       5\n",
       "3          4        2       lorichen       3\n",
       "4          5        2    mariokeller       2"
      ]
     },
     "execution_count": 11,
     "metadata": {},
     "output_type": "execute_result"
    }
   ],
   "source": [
    "#View first rows from ratings\n",
    "query= \"SELECT * FROM ratings LIMIT 5\"\n",
    "pd.read_sql(query, engine)\n"
   ]
  },
  {
   "cell_type": "code",
   "execution_count": 12,
   "id": "5012c01a",
   "metadata": {},
   "outputs": [
    {
     "data": {
      "text/html": [
       "<div>\n",
       "<style scoped>\n",
       "    .dataframe tbody tr th:only-of-type {\n",
       "        vertical-align: middle;\n",
       "    }\n",
       "\n",
       "    .dataframe tbody tr th {\n",
       "        vertical-align: top;\n",
       "    }\n",
       "\n",
       "    .dataframe thead th {\n",
       "        text-align: right;\n",
       "    }\n",
       "</style>\n",
       "<table border=\"1\" class=\"dataframe\">\n",
       "  <thead>\n",
       "    <tr style=\"text-align: right;\">\n",
       "      <th></th>\n",
       "      <th>review_id</th>\n",
       "      <th>book_id</th>\n",
       "      <th>username</th>\n",
       "      <th>text</th>\n",
       "    </tr>\n",
       "  </thead>\n",
       "  <tbody>\n",
       "    <tr>\n",
       "      <th>0</th>\n",
       "      <td>1</td>\n",
       "      <td>1</td>\n",
       "      <td>brandtandrea</td>\n",
       "      <td>Mention society tell send professor analysis. ...</td>\n",
       "    </tr>\n",
       "    <tr>\n",
       "      <th>1</th>\n",
       "      <td>2</td>\n",
       "      <td>1</td>\n",
       "      <td>ryanfranco</td>\n",
       "      <td>Foot glass pretty audience hit themselves. Amo...</td>\n",
       "    </tr>\n",
       "    <tr>\n",
       "      <th>2</th>\n",
       "      <td>3</td>\n",
       "      <td>2</td>\n",
       "      <td>lorichen</td>\n",
       "      <td>Listen treat keep worry. Miss husband tax but ...</td>\n",
       "    </tr>\n",
       "    <tr>\n",
       "      <th>3</th>\n",
       "      <td>4</td>\n",
       "      <td>3</td>\n",
       "      <td>johnsonamanda</td>\n",
       "      <td>Finally month interesting blue could nature cu...</td>\n",
       "    </tr>\n",
       "    <tr>\n",
       "      <th>4</th>\n",
       "      <td>5</td>\n",
       "      <td>3</td>\n",
       "      <td>scotttamara</td>\n",
       "      <td>Nation purpose heavy give wait song will. List...</td>\n",
       "    </tr>\n",
       "  </tbody>\n",
       "</table>\n",
       "</div>"
      ],
      "text/plain": [
       "   review_id  book_id       username  \\\n",
       "0          1        1   brandtandrea   \n",
       "1          2        1     ryanfranco   \n",
       "2          3        2       lorichen   \n",
       "3          4        3  johnsonamanda   \n",
       "4          5        3    scotttamara   \n",
       "\n",
       "                                                text  \n",
       "0  Mention society tell send professor analysis. ...  \n",
       "1  Foot glass pretty audience hit themselves. Amo...  \n",
       "2  Listen treat keep worry. Miss husband tax but ...  \n",
       "3  Finally month interesting blue could nature cu...  \n",
       "4  Nation purpose heavy give wait song will. List...  "
      ]
     },
     "execution_count": 12,
     "metadata": {},
     "output_type": "execute_result"
    }
   ],
   "source": [
    "#View first rows from reviews\n",
    "query= \"SELECT * FROM reviews LIMIT 5\"\n",
    "pd.read_sql(query, engine)\n"
   ]
  },
  {
   "cell_type": "markdown",
   "id": "e65a5ac1",
   "metadata": {},
   "source": [
    "## 🧪 Exercises"
   ]
  },
  {
   "cell_type": "markdown",
   "id": "c1b24372",
   "metadata": {},
   "source": [
    "### 📘Number of books published after January 1, 2000\n",
    "\n",
    "We want to identify how many books in the dataset were published after January 1, 2000. This will give us an idea of how much recent content the platform offers, which is important for understanding current trends and user preferences."
   ]
  },
  {
   "cell_type": "code",
   "execution_count": 13,
   "id": "6c80a43b",
   "metadata": {},
   "outputs": [
    {
     "data": {
      "text/html": [
       "<div>\n",
       "<style scoped>\n",
       "    .dataframe tbody tr th:only-of-type {\n",
       "        vertical-align: middle;\n",
       "    }\n",
       "\n",
       "    .dataframe tbody tr th {\n",
       "        vertical-align: top;\n",
       "    }\n",
       "\n",
       "    .dataframe thead th {\n",
       "        text-align: right;\n",
       "    }\n",
       "</style>\n",
       "<table border=\"1\" class=\"dataframe\">\n",
       "  <thead>\n",
       "    <tr style=\"text-align: right;\">\n",
       "      <th></th>\n",
       "      <th>num_libros</th>\n",
       "    </tr>\n",
       "  </thead>\n",
       "  <tbody>\n",
       "    <tr>\n",
       "      <th>0</th>\n",
       "      <td>819</td>\n",
       "    </tr>\n",
       "  </tbody>\n",
       "</table>\n",
       "</div>"
      ],
      "text/plain": [
       "   num_libros\n",
       "0         819"
      ]
     },
     "execution_count": 13,
     "metadata": {},
     "output_type": "execute_result"
    }
   ],
   "source": [
    "query = \"\"\"\n",
    "        SELECT COUNT(*) AS num_libros\n",
    "        FROM books\n",
    "        WHERE publication_date > '2000-01-01';\n",
    "        \"\"\"\n",
    "pd.read_sql(query, engine)\n"
   ]
  },
  {
   "cell_type": "markdown",
   "id": "7388c25a",
   "metadata": {},
   "source": [
    "A total of **819 books** in the dataset were published after January 1, 2000. This suggests that the platform includes a significant number of modern publications, which is important for attracting contemporary readers and staying relevant in the current market."
   ]
  },
  {
   "cell_type": "markdown",
   "id": "a2a57de5",
   "metadata": {},
   "source": [
    "### 📗 Number of User Reviews and Average Rating per Book\n",
    "\n",
    "In this step, we want to determine two key metrics for each book:\n",
    "\n",
    "- How many reviews (ratings) it has received.\n",
    "- What is its average rating.\n",
    "\n",
    "This information is useful for identifying books that are popular and well-rated by users — key indicators for recommendation systems and market positioning."
   ]
  },
  {
   "cell_type": "code",
   "execution_count": 14,
   "id": "af7be6ca",
   "metadata": {},
   "outputs": [
    {
     "data": {
      "text/html": [
       "<div>\n",
       "<style scoped>\n",
       "    .dataframe tbody tr th:only-of-type {\n",
       "        vertical-align: middle;\n",
       "    }\n",
       "\n",
       "    .dataframe tbody tr th {\n",
       "        vertical-align: top;\n",
       "    }\n",
       "\n",
       "    .dataframe thead th {\n",
       "        text-align: right;\n",
       "    }\n",
       "</style>\n",
       "<table border=\"1\" class=\"dataframe\">\n",
       "  <thead>\n",
       "    <tr style=\"text-align: right;\">\n",
       "      <th></th>\n",
       "      <th>book_id</th>\n",
       "      <th>num_reseñas</th>\n",
       "      <th>calificacion_promedio</th>\n",
       "    </tr>\n",
       "  </thead>\n",
       "  <tbody>\n",
       "    <tr>\n",
       "      <th>0</th>\n",
       "      <td>652</td>\n",
       "      <td>2</td>\n",
       "      <td>4.500000</td>\n",
       "    </tr>\n",
       "    <tr>\n",
       "      <th>1</th>\n",
       "      <td>273</td>\n",
       "      <td>2</td>\n",
       "      <td>4.500000</td>\n",
       "    </tr>\n",
       "    <tr>\n",
       "      <th>2</th>\n",
       "      <td>51</td>\n",
       "      <td>12</td>\n",
       "      <td>4.250000</td>\n",
       "    </tr>\n",
       "    <tr>\n",
       "      <th>3</th>\n",
       "      <td>951</td>\n",
       "      <td>2</td>\n",
       "      <td>4.000000</td>\n",
       "    </tr>\n",
       "    <tr>\n",
       "      <th>4</th>\n",
       "      <td>839</td>\n",
       "      <td>7</td>\n",
       "      <td>4.285714</td>\n",
       "    </tr>\n",
       "    <tr>\n",
       "      <th>...</th>\n",
       "      <td>...</td>\n",
       "      <td>...</td>\n",
       "      <td>...</td>\n",
       "    </tr>\n",
       "    <tr>\n",
       "      <th>995</th>\n",
       "      <td>64</td>\n",
       "      <td>13</td>\n",
       "      <td>4.230769</td>\n",
       "    </tr>\n",
       "    <tr>\n",
       "      <th>996</th>\n",
       "      <td>55</td>\n",
       "      <td>2</td>\n",
       "      <td>5.000000</td>\n",
       "    </tr>\n",
       "    <tr>\n",
       "      <th>997</th>\n",
       "      <td>148</td>\n",
       "      <td>7</td>\n",
       "      <td>3.428571</td>\n",
       "    </tr>\n",
       "    <tr>\n",
       "      <th>998</th>\n",
       "      <td>790</td>\n",
       "      <td>2</td>\n",
       "      <td>3.500000</td>\n",
       "    </tr>\n",
       "    <tr>\n",
       "      <th>999</th>\n",
       "      <td>828</td>\n",
       "      <td>2</td>\n",
       "      <td>3.000000</td>\n",
       "    </tr>\n",
       "  </tbody>\n",
       "</table>\n",
       "<p>1000 rows × 3 columns</p>\n",
       "</div>"
      ],
      "text/plain": [
       "     book_id  num_reseñas  calificacion_promedio\n",
       "0        652            2               4.500000\n",
       "1        273            2               4.500000\n",
       "2         51           12               4.250000\n",
       "3        951            2               4.000000\n",
       "4        839            7               4.285714\n",
       "..       ...          ...                    ...\n",
       "995       64           13               4.230769\n",
       "996       55            2               5.000000\n",
       "997      148            7               3.428571\n",
       "998      790            2               3.500000\n",
       "999      828            2               3.000000\n",
       "\n",
       "[1000 rows x 3 columns]"
      ]
     },
     "execution_count": 14,
     "metadata": {},
     "output_type": "execute_result"
    }
   ],
   "source": [
    "query = \"\"\"\n",
    "SELECT\n",
    "    b.book_id,\n",
    "    COALESCE(COUNT(r.rating_id), 0) AS num_reseñas,\n",
    "    COALESCE(AVG(r.rating), 0) AS calificacion_promedio\n",
    "FROM\n",
    "    books b\n",
    "LEFT JOIN\n",
    "    ratings r ON b.book_id = r.book_id\n",
    "GROUP BY\n",
    "    b.book_id;\n",
    "        \"\"\"\n",
    "pd.read_sql(query, engine)\n"
   ]
  },
  {
   "cell_type": "markdown",
   "id": "44fa5567",
   "metadata": {},
   "source": [
    "### 📘 Publisher with the Most Books Over 50 Pages\n",
    "\n",
    "We want to identify which publisher has released the highest number of books that are longer than 50 pages.\n",
    "\n",
    "This filter helps us exclude short publications like pamphlets or manuals, and instead focus on substantial works. Understanding which publisher contributes the most full-length books may be useful for partnership opportunities or catalog assessment."
   ]
  },
  {
   "cell_type": "code",
   "execution_count": 15,
   "id": "b1044ef6",
   "metadata": {},
   "outputs": [
    {
     "data": {
      "text/html": [
       "<div>\n",
       "<style scoped>\n",
       "    .dataframe tbody tr th:only-of-type {\n",
       "        vertical-align: middle;\n",
       "    }\n",
       "\n",
       "    .dataframe tbody tr th {\n",
       "        vertical-align: top;\n",
       "    }\n",
       "\n",
       "    .dataframe thead th {\n",
       "        text-align: right;\n",
       "    }\n",
       "</style>\n",
       "<table border=\"1\" class=\"dataframe\">\n",
       "  <thead>\n",
       "    <tr style=\"text-align: right;\">\n",
       "      <th></th>\n",
       "      <th>publisher_id</th>\n",
       "      <th>publisher</th>\n",
       "      <th>num_libros</th>\n",
       "    </tr>\n",
       "  </thead>\n",
       "  <tbody>\n",
       "    <tr>\n",
       "      <th>0</th>\n",
       "      <td>212</td>\n",
       "      <td>Penguin Books</td>\n",
       "      <td>42</td>\n",
       "    </tr>\n",
       "  </tbody>\n",
       "</table>\n",
       "</div>"
      ],
      "text/plain": [
       "   publisher_id      publisher  num_libros\n",
       "0           212  Penguin Books          42"
      ]
     },
     "execution_count": 15,
     "metadata": {},
     "output_type": "execute_result"
    }
   ],
   "source": [
    "query = \"\"\"\n",
    "SELECT\n",
    "    p.publisher_id,\n",
    "    p.publisher,\n",
    "    COUNT(CASE WHEN b.num_pages > 50 THEN b.book_id END) AS num_libros\n",
    "FROM\n",
    "    books b\n",
    "JOIN\n",
    "    publishers p ON b.publisher_id = p.publisher_id\n",
    "GROUP BY\n",
    "    p.publisher_id, p.publisher\n",
    "ORDER BY\n",
    "    num_libros DESC\n",
    "LIMIT 1;\n",
    "\"\"\"\n",
    "pd.read_sql(query, engine)\n"
   ]
  },
  {
   "cell_type": "markdown",
   "id": "bf782b81",
   "metadata": {},
   "source": [
    "The publisher with the highest number of books over 50 pages is **Penguin Books**, with a total of **42 titles**.\n",
    "\n",
    "This suggests that Penguin Books is a leading contributor of full-length books in the dataset, which may indicate a strong and diverse catalog suitable for readers seeking substantial content.\t"
   ]
  },
  {
   "cell_type": "markdown",
   "id": "bb3f3f98",
   "metadata": {},
   "source": [
    "### 🖋️ Author with the Highest Average Book Rating (Min. 50 Ratings per Book)\n",
    "\n",
    "We want to find out which author has the highest average book rating, but only considering books that have received at least 50 user ratings.\n",
    "\n",
    "This filter helps us avoid bias from books with too few ratings, which could distort the results. This metric can highlight authors who consistently produce high-quality and well-received work."
   ]
  },
  {
   "cell_type": "code",
   "execution_count": 16,
   "id": "454c1b97",
   "metadata": {},
   "outputs": [
    {
     "data": {
      "text/html": [
       "<div>\n",
       "<style scoped>\n",
       "    .dataframe tbody tr th:only-of-type {\n",
       "        vertical-align: middle;\n",
       "    }\n",
       "\n",
       "    .dataframe tbody tr th {\n",
       "        vertical-align: top;\n",
       "    }\n",
       "\n",
       "    .dataframe thead th {\n",
       "        text-align: right;\n",
       "    }\n",
       "</style>\n",
       "<table border=\"1\" class=\"dataframe\">\n",
       "  <thead>\n",
       "    <tr style=\"text-align: right;\">\n",
       "      <th></th>\n",
       "      <th>author_id</th>\n",
       "      <th>author</th>\n",
       "      <th>calificacion_promedio</th>\n",
       "    </tr>\n",
       "  </thead>\n",
       "  <tbody>\n",
       "    <tr>\n",
       "      <th>0</th>\n",
       "      <td>130</td>\n",
       "      <td>Diana Gabaldon</td>\n",
       "      <td>4.3</td>\n",
       "    </tr>\n",
       "  </tbody>\n",
       "</table>\n",
       "</div>"
      ],
      "text/plain": [
       "   author_id          author  calificacion_promedio\n",
       "0        130  Diana Gabaldon                    4.3"
      ]
     },
     "execution_count": 16,
     "metadata": {},
     "output_type": "execute_result"
    }
   ],
   "source": [
    "query = \"\"\"\n",
    "SELECT\n",
    "    a.author_id,\n",
    "    a.author,\n",
    "    AVG(r.rating) AS calificacion_promedio\n",
    "FROM\n",
    "    authors a\n",
    "JOIN\n",
    "    books b ON a.author_id = b.author_id\n",
    "JOIN\n",
    "    ratings r ON b.book_id = r.book_id\n",
    "GROUP BY\n",
    "    a.author_id, a.author\n",
    "HAVING\n",
    "    COUNT(r.rating_id) >= 50\n",
    "ORDER BY\n",
    "    calificacion_promedio DESC\n",
    "LIMIT 1;\n",
    "\"\"\"\n",
    "pd.read_sql(query, engine)\n",
    "\n"
   ]
  },
  {
   "cell_type": "markdown",
   "id": "4dd78472",
   "metadata": {},
   "source": [
    "The author with the highest average book rating, considering only books with at least 50 ratings, is **Diana Gabaldon**, with an impressive average score of **4.3**.\n",
    "\n",
    "This indicates that Diana Gabaldon’s works are not only widely read but also consistently well-received by the audience, making her a strong candidate for highlighted recommendations or featured content.\t"
   ]
  },
  {
   "cell_type": "markdown",
   "id": "2205e21d",
   "metadata": {},
   "source": [
    "### 💬 Average Number of Text Reviews Among Users Who Rated More Than 50 Books\n",
    "\n",
    "This analysis focuses on the most active users — those who have rated more than 50 books — and calculates the average number of written reviews they submitted.\n",
    "\n",
    "By comparing the number of ratings with the number of written reviews, we gain insight into how engaged these users are beyond just giving stars. This can help assess the quality of user feedback and potential for social features like community reviews or top reviewer badges."
   ]
  },
  {
   "cell_type": "code",
   "execution_count": 17,
   "id": "6a7638f1",
   "metadata": {},
   "outputs": [
    {
     "data": {
      "text/html": [
       "<div>\n",
       "<style scoped>\n",
       "    .dataframe tbody tr th:only-of-type {\n",
       "        vertical-align: middle;\n",
       "    }\n",
       "\n",
       "    .dataframe tbody tr th {\n",
       "        vertical-align: top;\n",
       "    }\n",
       "\n",
       "    .dataframe thead th {\n",
       "        text-align: right;\n",
       "    }\n",
       "</style>\n",
       "<table border=\"1\" class=\"dataframe\">\n",
       "  <thead>\n",
       "    <tr style=\"text-align: right;\">\n",
       "      <th></th>\n",
       "      <th>promedio_reseñas_texto</th>\n",
       "    </tr>\n",
       "  </thead>\n",
       "  <tbody>\n",
       "    <tr>\n",
       "      <th>0</th>\n",
       "      <td>24.333333</td>\n",
       "    </tr>\n",
       "  </tbody>\n",
       "</table>\n",
       "</div>"
      ],
      "text/plain": [
       "   promedio_reseñas_texto\n",
       "0               24.333333"
      ]
     },
     "execution_count": 17,
     "metadata": {},
     "output_type": "execute_result"
    }
   ],
   "source": [
    "query = \"\"\"\n",
    "SELECT\n",
    "    AVG(n_reviews_text) AS promedio_reseñas_texto\n",
    "FROM (\n",
    "    SELECT\n",
    "        username,\n",
    "        COUNT(review_id) AS n_reviews_text\n",
    "    FROM\n",
    "        reviews\n",
    "    WHERE\n",
    "        username IN (\n",
    "            SELECT\n",
    "                username\n",
    "            FROM\n",
    "                ratings\n",
    "            GROUP BY\n",
    "                username\n",
    "            HAVING\n",
    "                COUNT(rating_id) > 50\n",
    "        )\n",
    "    GROUP BY\n",
    "        username\n",
    ") AS subquery;\n",
    "\"\"\"\n",
    "pd.read_sql(query, engine)"
   ]
  },
  {
   "cell_type": "markdown",
   "id": "7a623ad2",
   "metadata": {},
   "source": [
    "On average, users who have rated more than 50 books wrote **24.33 text reviews**.\n",
    "\n",
    "This indicates a fairly high level of engagement among the most active users, not only are they rating many books, but they are also providing written feedback on nearly half of them. This type of user behavior is valuable for platforms aiming to foster community-driven content and personalized recommendations.\n"
   ]
  }
 ],
 "metadata": {
  "kernelspec": {
   "display_name": "Python 3 (ipykernel)",
   "language": "python",
   "name": "python3"
  },
  "language_info": {
   "codemirror_mode": {
    "name": "ipython",
    "version": 3
   },
   "file_extension": ".py",
   "mimetype": "text/x-python",
   "name": "python",
   "nbconvert_exporter": "python",
   "pygments_lexer": "ipython3",
   "version": "3.11.3"
  },
  "toc": {
   "base_numbering": 1,
   "nav_menu": {},
   "number_sections": true,
   "sideBar": true,
   "skip_h1_title": true,
   "title_cell": "Table of Contents",
   "title_sidebar": "Contents",
   "toc_cell": true,
   "toc_position": {},
   "toc_section_display": true,
   "toc_window_display": true
  }
 },
 "nbformat": 4,
 "nbformat_minor": 5
}
